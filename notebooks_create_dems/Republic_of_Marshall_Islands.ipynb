{
 "cells": [
  {
   "cell_type": "markdown",
   "id": "cbf43dcd",
   "metadata": {},
   "source": [
    "# Republic of Marshal Islands 5m DEM creation\n",
    "Load in LiDAR where it exists and combine with FABDEM to produce 5m DEMs"
   ]
  },
  {
   "cell_type": "code",
   "execution_count": 1,
   "id": "0668458b",
   "metadata": {},
   "outputs": [],
   "source": [
    "%load_ext autoreload\n",
    "%autoreload 2\n",
    "\n",
    "import warnings\n",
    "warnings.simplefilter(action='ignore', category=FutureWarning)\n",
    "\n",
    "import pathlib\n",
    "\n",
    "import os\n",
    "import sys\n",
    "module_path = os.path.abspath(os.path.join(\"..\", \"src\", \"pacific-dems\"))\n",
    "if module_path not in sys.path:\n",
    "    sys.path.append(module_path)\n",
    "\n",
    "import create_dem_functions\n",
    "import islands\n",
    "import create_data_paths"
   ]
  },
  {
   "cell_type": "markdown",
   "id": "d2628ea6",
   "metadata": {},
   "source": [
    "# Define country and resolution"
   ]
  },
  {
   "cell_type": "code",
   "execution_count": 2,
   "id": "395f96df",
   "metadata": {},
   "outputs": [],
   "source": [
    "resolution = 5 # in meters\n",
    "country_name = \"republic_of_marshall_islands\""
   ]
  },
  {
   "cell_type": "markdown",
   "id": "dc7f2064-9a71-4e0d-981c-1b733c9ca195",
   "metadata": {},
   "source": [
    "* make local folders\n",
    "* copy locally\n"
   ]
  },
  {
   "cell_type": "code",
   "execution_count": 11,
   "id": "85805301-202f-41dc-9b38-00bef10e7200",
   "metadata": {},
   "outputs": [],
   "source": [
    "import shutil\n",
    "paths = create_data_paths.get_paths(country_name=country_name, resolution=resolution)\n",
    "paths['lidar'].mkdir(exist_ok=True, parents=True)\n",
    "r_path = pathlib.Path(\"R:/National/Datasets/Pacific Data/DEM-Imagery/RMI/2019-LiDAR\")\n",
    "shutil.copy(r_path / \"Majuro\" / \"1mLiDAR_MGVD17_interpolated_1.tif\", paths['lidar'] / \"majuro_1m.tif\")\n",
    "shutil.copy(r_path / \"Ebeye\" / \"Ebeye_Lidar_1m_interpolated.tif\", paths['lidar'] / \"ebeye_1m.tif\")"
   ]
  },
  {
   "cell_type": "code",
   "execution_count": 12,
   "id": "277f8022-bcc5-4538-8a4c-92d855c7363c",
   "metadata": {},
   "outputs": [
    {
     "data": {
      "text/plain": [
       "WindowsPath('c:/Local/repos/pacific-dems/notebooks_create_dems/../data/republic_of_marshall_islands/lidar/ebeye_1m.tif')"
      ]
     },
     "execution_count": 12,
     "metadata": {},
     "output_type": "execute_result"
    }
   ],
   "source": [
    "shutil.copy(r_path / \"Majuro\" / \"1mLiDAR_MGVD17_interpolated_1.tif\", paths['lidar'] / \"majuro_1m.tif\")\n",
    "shutil.copy(r_path / \"Ebeye\" / \"Ebeye_Lidar_1m_interpolated.tif\", paths['lidar'] / \"ebeye_1m.tif\")"
   ]
  },
  {
   "cell_type": "markdown",
   "id": "0bb5c332-6840-45b9-b6dc-f21324e4b500",
   "metadata": {},
   "source": [
    "# Create paths and get contry information"
   ]
  },
  {
   "cell_type": "code",
   "execution_count": 13,
   "id": "135798d2-15cd-4fb8-bacd-f6f3f6b94f6d",
   "metadata": {},
   "outputs": [],
   "source": [
    "paths = create_data_paths.get_paths(country_name=country_name, resolution=resolution)\n",
    "islands_dict = islands.get_island(country_name)"
   ]
  },
  {
   "cell_type": "code",
   "execution_count": 20,
   "id": "440e3a5c-3a26-4752-a448-a3faa5c0ae29",
   "metadata": {},
   "outputs": [],
   "source": [
    "islands_dict = island_dict_lidar"
   ]
  },
  {
   "cell_type": "code",
   "execution_count": 15,
   "id": "aa9cc1f4-9a8f-450b-9ba5-627519fde33d",
   "metadata": {},
   "outputs": [],
   "source": [
    "island_dict_lidar = {\"kwajalein\": island_dict[\"kwajalein\"], \"majuro\": island_dict[\"majuro\"]}"
   ]
  },
  {
   "cell_type": "markdown",
   "id": "91d58465-03e0-4f0d-a249-c6339bc27426",
   "metadata": {},
   "source": [
    "# Specify any LiDAR data"
   ]
  },
  {
   "cell_type": "code",
   "execution_count": 21,
   "id": "dd07349c-0a44-4833-83b3-d130b945ae51",
   "metadata": {},
   "outputs": [],
   "source": [
    "# Path of LiDAR DEMs\n",
    "majuro_lidar = create_dem_functions.load_dem(paths[\"lidar\"] / \"majuro_1m.tif\")\n",
    "ebeye_lidar = create_dem_functions.load_dem(paths[\"lidar\"] / \"ebeye_1m.tif\") \n",
    "\n",
    "# Add to islands\n",
    "islands_dict[\"kwajalein\"][\"lidar\"] = ebeye_lidar\n",
    "islands_dict[\"majuro\"][\"lidar\"] = majuro_lidar\n",
    "islands_dict[\"majuro\"][\"lidar_only\"] = True"
   ]
  },
  {
   "cell_type": "markdown",
   "id": "c9f8d1e8",
   "metadata": {},
   "source": [
    "# Get island outlines and combine FABDEMs"
   ]
  },
  {
   "cell_type": "code",
   "execution_count": 24,
   "id": "78ad6192-e2e1-4f2e-8c8e-d9622bbeb0e1",
   "metadata": {},
   "outputs": [
    {
     "data": {
      "text/plain": [
       "{'fabdem': WindowsPath('c:/Local/repos/pacific-dems/notebooks_create_dems/../data/FABDEM'),\n",
       " 'country': WindowsPath('c:/Local/repos/pacific-dems/notebooks_create_dems/../data/republic_of_marshall_islands'),\n",
       " 'output': WindowsPath('c:/Local/repos/pacific-dems/notebooks_create_dems/../data/republic_of_marshall_islands/5m_dems'),\n",
       " 'lidar': WindowsPath('c:/Local/repos/pacific-dems/notebooks_create_dems/../data/republic_of_marshall_islands/lidar'),\n",
       " 'land': 'https://github.com/digitalearthpacific/depal/raw/main/padm.gpkg'}"
      ]
     },
     "execution_count": 24,
     "metadata": {},
     "output_type": "execute_result"
    }
   ],
   "source": [
    "paths"
   ]
  },
  {
   "cell_type": "code",
   "execution_count": 25,
   "id": "209b2e5d",
   "metadata": {},
   "outputs": [
    {
     "name": "stdout",
     "output_type": "stream",
     "text": [
      "Setup for kwajalein\n",
      "Setup for majuro\n"
     ]
    }
   ],
   "source": [
    "for island_name, island_dict in islands_dict.items():\n",
    "    print(f\"Setup for {island_name}\")\n",
    "    island_dict[\"name\"] = island_name\n",
    "    island_dict[\"land\"] = create_dem_functions.get_islands_in_boundary(island_dict=island_dict, gadm_path=paths[\"land\"], output_path=paths[\"output\"])\n",
    "    island_dict[\"fab\"] = create_dem_functions.combine_fabs_in_boundary(island_dict=island_dict, fab_path=paths[\"fabdem\"])"
   ]
  },
  {
   "cell_type": "markdown",
   "id": "fa739192",
   "metadata": {},
   "source": [
    "# Create DEMs over islands"
   ]
  },
  {
   "cell_type": "code",
   "execution_count": 33,
   "id": "21d39a7e",
   "metadata": {},
   "outputs": [
    {
     "name": "stdout",
     "output_type": "stream",
     "text": [
      "Producing DEM(s) for kwajalein at 5m.\n",
      "\tReample LiDAR DEM 1 of 1\n",
      "\tDefine extents of LiDAR DEMs.\n",
      "0    MULTIPOLYGON (((804477.506 983147.506, 804477....\n",
      "dtype: geometry\n",
      "\tMergining FAB and LiDAR DEMs.\n",
      "\tSaving DEMs.\n",
      "\tClip then save DEMs to land.\n",
      "Producing DEM(s) for majuro at 5m.\n",
      "\tReample LiDAR DEM 1 of 1\n",
      "\tDefine extents of LiDAR DEMs.\n",
      "0    MULTIPOLYGON (((539210.506 782944.506, 539210....\n",
      "dtype: geometry\n",
      "\tSaving DEMs.\n",
      "\tClip then save DEMs to land.\n"
     ]
    }
   ],
   "source": [
    "create_dem_functions.creating_dems_all_islands(island_groups=islands_dict, resolution=resolution, output_path=paths[\"output\"])"
   ]
  },
  {
   "cell_type": "code",
   "execution_count": 32,
   "id": "7c3c1b95",
   "metadata": {},
   "outputs": [
    {
     "data": {
      "text/plain": [
       "False"
      ]
     },
     "execution_count": 32,
     "metadata": {},
     "output_type": "execute_result"
    }
   ],
   "source": [
    "pathlib.Path(r\"c:\\Local\\repos\\pacific-dems\\notebooks_create_dems\\..\\data\\republic_of_marshall_islands\\5m_dems\\kwajalein\").exists()"
   ]
  },
  {
   "cell_type": "code",
   "execution_count": null,
   "id": "4e356254-a657-450f-9cec-ef5489c4aa06",
   "metadata": {},
   "outputs": [],
   "source": []
  }
 ],
 "metadata": {
  "kernelspec": {
   "display_name": "Python [conda env:raster]",
   "language": "python",
   "name": "conda-env-raster-py"
  },
  "language_info": {
   "codemirror_mode": {
    "name": "ipython",
    "version": 3
   },
   "file_extension": ".py",
   "mimetype": "text/x-python",
   "name": "python",
   "nbconvert_exporter": "python",
   "pygments_lexer": "ipython3",
   "version": "3.11.3"
  }
 },
 "nbformat": 4,
 "nbformat_minor": 5
}
