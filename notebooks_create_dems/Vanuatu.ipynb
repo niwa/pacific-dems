{
 "cells": [
  {
   "cell_type": "markdown",
   "id": "cbf43dcd",
   "metadata": {},
   "source": [
    "# Vanuatu 5m DEM creation\n",
    "Load in LiDAR where it exists and combine with FABDEM to produce 5m DEMs"
   ]
  },
  {
   "cell_type": "code",
   "execution_count": 6,
   "id": "0668458b",
   "metadata": {},
   "outputs": [
    {
     "name": "stdout",
     "output_type": "stream",
     "text": [
      "The autoreload extension is already loaded. To reload it, use:\n",
      "  %reload_ext autoreload\n"
     ]
    }
   ],
   "source": [
    "%load_ext autoreload\n",
    "%autoreload 2\n",
    "\n",
    "import warnings\n",
    "warnings.simplefilter(action='ignore', category=FutureWarning)\n",
    "\n",
    "import pathlib\n",
    "\n",
    "import os\n",
    "import sys\n",
    "module_path = os.path.abspath(os.path.join(\"..\", \"src\", \"pacific-dems\"))\n",
    "if module_path not in sys.path:\n",
    "    sys.path.append(module_path)\n",
    "\n",
    "import create_dem_functions\n",
    "import islands\n",
    "import create_data_paths"
   ]
  },
  {
   "cell_type": "markdown",
   "id": "d2628ea6",
   "metadata": {},
   "source": [
    "# Define country and resolution"
   ]
  },
  {
   "cell_type": "code",
   "execution_count": 7,
   "id": "395f96df",
   "metadata": {},
   "outputs": [],
   "source": [
    "resolution = 5 # in meters\n",
    "country_name = \"vanuatu\""
   ]
  },
  {
   "cell_type": "markdown",
   "id": "0bb5c332-6840-45b9-b6dc-f21324e4b500",
   "metadata": {},
   "source": [
    "# Create paths and get contry information"
   ]
  },
  {
   "cell_type": "code",
   "execution_count": 8,
   "id": "135798d2-15cd-4fb8-bacd-f6f3f6b94f6d",
   "metadata": {},
   "outputs": [],
   "source": [
    "paths = create_data_paths.get_paths(country_name=country_name, resolution=resolution)\n",
    "islands_dict = islands.get_island(country_name)"
   ]
  },
  {
   "cell_type": "markdown",
   "id": "91d58465-03e0-4f0d-a249-c6339bc27426",
   "metadata": {},
   "source": [
    "# Specify any LiDAR data"
   ]
  },
  {
   "cell_type": "code",
   "execution_count": 10,
   "id": "dd07349c-0a44-4833-83b3-d130b945ae51",
   "metadata": {},
   "outputs": [],
   "source": [
    "# Path of LiDAR DEMs\n",
    "efate_lidar_2012 = create_dem_functions.load_dem(paths[\"lidar\"] / \"dem_efate.tif\")\n",
    "espiritu_lidar_2012 = create_dem_functions.load_dem(paths[\"lidar\"] / \"dem_espiritu.tif\")\n",
    "efate_lidar_2021 = create_dem_functions.load_dem(paths[\"lidar\"] / \"EfateLiDAR2021-DEM-GRID-100_19358023_59S.tif\")\n",
    "malekula_lidar_2021 = create_dem_functions.load_dem(paths[\"lidar\"] / \"MalekulaLiDAR2021-HDEM-GRID-100_72708159_58S.tif\")\n",
    "tanna_lidar_2021 = create_dem_functions.load_dem(paths[\"lidar\"] / \"TannaLiDAR2021-DEM-GRID-100_31007823_59S.tif\")\n",
    "\n",
    "# Add to islands\n",
    "islands_dict[\"shefa_province\"][\"lidar\"] = [efate_lidar_2021, efate_lidar_2012]\n",
    "islands_dict[\"sanma_province\"][\"lidar\"] = espiritu_lidar_2012\n",
    "islands_dict[\"malampa_province\"][\"lidar\"] = malekula_lidar_2021\n",
    "islands_dict[\"tafea_province\"][\"lidar\"] = tanna_lidar_2021"
   ]
  },
  {
   "cell_type": "markdown",
   "id": "c9f8d1e8",
   "metadata": {},
   "source": [
    "# Get island outlines and combine FABDEMs"
   ]
  },
  {
   "cell_type": "code",
   "execution_count": null,
   "id": "209b2e5d",
   "metadata": {},
   "outputs": [
    {
     "name": "stdout",
     "output_type": "stream",
     "text": [
      "Setup for malampa_province\n",
      "Setup for penama_province\n",
      "Setup for tafea_province\n",
      "/tWarning FABDEM tile S21E168_FABDEM_V1-2.tif doesn't exist in folder S30E160-S20E170_FABDEM_V1-2\n",
      "/tWarning FABDEM tile S21E170_FABDEM_V1-2.tif doesn't exist in folder S30E170-S20W180_FABDEM_V1-2\n",
      "/tWarning FABDEM tile S20E168_FABDEM_V1-2.tif doesn't exist in folder S20E160-S10E170_FABDEM_V1-2\n",
      "/tWarning FABDEM tile S19E170_FABDEM_V1-2.tif doesn't exist in folder S20E170-S10W180_FABDEM_V1-2\n",
      "Setup for torba_province\n",
      "/tWarning FABDEM tile S14E168_FABDEM_V1-2.tif doesn't exist in folder S20E160-S10E170_FABDEM_V1-2\n",
      "Setup for shefa_province\n"
     ]
    }
   ],
   "source": [
    "for island_name, island_dict in islands_dict.items():\n",
    "    print(f\"Setup for {island_name}\")\n",
    "    island_dict[\"name\"] = island_name\n",
    "    island_dict[\"land\"] = create_dem_functions.get_islands_in_boundary(island_dict=island_dict, gadm_path=paths[\"land\"], output_path=paths[\"output\"] / island_name)\n",
    "    island_dict[\"fab\"] = create_dem_functions.combine_fabs_in_boundary(island_dict=island_dict, fab_path=paths[\"fabdem\"])"
   ]
  },
  {
   "cell_type": "markdown",
   "id": "fa739192",
   "metadata": {},
   "source": [
    "# Create DEMs over islands"
   ]
  },
  {
   "cell_type": "code",
   "execution_count": null,
   "id": "21d39a7e",
   "metadata": {},
   "outputs": [],
   "source": [
    "create_dem_functions.creating_dems_all_islands(island_groups=islands_dict, resolution=resolution, output_path=paths[\"output\"])"
   ]
  },
  {
   "cell_type": "code",
   "execution_count": null,
   "id": "7c3c1b95",
   "metadata": {},
   "outputs": [],
   "source": []
  }
 ],
 "metadata": {
  "kernelspec": {
   "display_name": "Python [conda env:raster]",
   "language": "python",
   "name": "conda-env-raster-py"
  },
  "language_info": {
   "codemirror_mode": {
    "name": "ipython",
    "version": 3
   },
   "file_extension": ".py",
   "mimetype": "text/x-python",
   "name": "python",
   "nbconvert_exporter": "python",
   "pygments_lexer": "ipython3",
   "version": "3.11.3"
  }
 },
 "nbformat": 4,
 "nbformat_minor": 5
}
