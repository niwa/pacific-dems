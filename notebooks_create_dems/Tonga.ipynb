{
 "cells": [
  {
   "cell_type": "markdown",
   "id": "cbf43dcd",
   "metadata": {},
   "source": [
    "# Tonga 5m DEM creation\n",
    "Load in LiDAR where it exists and combine with FABDEM to produce 5m DEMs"
   ]
  },
  {
   "cell_type": "code",
   "execution_count": null,
   "id": "0668458b",
   "metadata": {},
   "outputs": [],
   "source": [
    "%load_ext autoreload\n",
    "%autoreload 2\n",
    "\n",
    "import warnings\n",
    "warnings.simplefilter(action='ignore', category=FutureWarning)\n",
    "\n",
    "import pathlib\n",
    "\n",
    "import os\n",
    "import sys\n",
    "module_path = os.path.abspath(os.path.join(\"..\", \"src\", \"pacific-dems\"))\n",
    "if module_path not in sys.path:\n",
    "    sys.path.append(module_path)\n",
    "\n",
    "import create_dem_functions\n",
    "import islands\n",
    "import create_data_paths"
   ]
  },
  {
   "cell_type": "markdown",
   "id": "d2628ea6",
   "metadata": {},
   "source": [
    "# Define country and resolution"
   ]
  },
  {
   "cell_type": "code",
   "execution_count": null,
   "id": "395f96df",
   "metadata": {},
   "outputs": [],
   "source": [
    "resolution = 5 # in meters\n",
    "country_name = \"tonga\""
   ]
  },
  {
   "cell_type": "markdown",
   "id": "0bb5c332-6840-45b9-b6dc-f21324e4b500",
   "metadata": {},
   "source": [
    "# Create paths and get contry information"
   ]
  },
  {
   "cell_type": "code",
   "execution_count": null,
   "id": "135798d2-15cd-4fb8-bacd-f6f3f6b94f6d",
   "metadata": {},
   "outputs": [],
   "source": [
    "paths = create_data_paths.get_paths(country_name=country_name, resolution=resolution)\n",
    "islands_dict = islands.get_island(country_name)"
   ]
  },
  {
   "cell_type": "markdown",
   "id": "91d58465-03e0-4f0d-a249-c6339bc27426",
   "metadata": {},
   "source": [
    "# Specify any LiDAR data"
   ]
  },
  {
   "cell_type": "code",
   "execution_count": null,
   "id": "dd07349c-0a44-4833-83b3-d130b945ae51",
   "metadata": {},
   "outputs": [],
   "source": [
    "# Path of LiDAR DEMs\n",
    "eua_lidar = create_dem_functions.load_dem(paths[\"lidar\"] / \"Eua_1m_topobathy.tif\") \n",
    "tafahi_lidar = create_dem_functions.load_dem(paths[\"lidar\"] / \"Tafahi_1m_topobathy.tif\") \n",
    "vavau_lidar = create_dem_functions.load_dem(paths[\"lidar\"] / \"Vavau_1m_topobathy.tif\") \n",
    "\n",
    "tongatapu_lidar_land = create_dem_functions.load_dem(paths[\"lidar\"] / \"TongaLidar2011_1m_dem_UTM_compressed.tif\") \n",
    "tongatapu_lidar_bathy = create_dem_functions.load_dem(paths[\"lidar\"] / \"TongaLidar2011_5m_Bathymetry_UTM_compressed.tif\") \n",
    "lifuka_lidar_land = create_dem_functions.load_dem(paths[\"lidar\"] / \"LifukaLidar2011_1m_DEM_UTM_compressed.tif\") \n",
    "lifuka_lidar_bathy = create_dem_functions.load_dem(paths[\"lidar\"] / \"LifukaLidar2011_5m_Bathymetry_UTM_compressed.tif\") \n",
    "\n",
    "\n",
    "# Add to islands\n",
    "islands_dict[\"'eua\"][\"lidar\"] = eua_lidar\n",
    "islands_dict[\"niuatoputapu_tafahi_islands\"][\"lidar\"] = tafahi_lidar\n",
    "islands_dict[\"vava'u_group\"][\"lidar\"] = vavau_lidar\n",
    "islands_dict[\"tongatapu\"][\"lidar\"] = [tongatapu_lidar_land, tongatapu_lidar_bathy]\n",
    "islands_dict[\"ha'apai_group\"][\"lidar\"] = [lifuka_lidar_land, lifuka_lidar_bathy]"
   ]
  },
  {
   "cell_type": "markdown",
   "id": "c9f8d1e8",
   "metadata": {},
   "source": [
    "# Get island outlines and combine FABDEMs"
   ]
  },
  {
   "cell_type": "code",
   "execution_count": null,
   "id": "209b2e5d",
   "metadata": {},
   "outputs": [],
   "source": [
    "islands_dict.pop(\"minerva\") # remove as no FABDEM\n",
    "for island_name, island_dict in islands_dict.items():\n",
    "    print(f\"Setup for {island_name}\")\n",
    "    island_dict[\"name\"] = island_name\n",
    "    island_dict[\"boundary\"] = create_dem_functions.create_boundary_epsg4326(island_dict=island_dict, output_path=paths[\"output\"])\n",
    "    island_dict[\"fab\"] = create_dem_functions.combine_fabs_in_boundary(island_dict=island_dict, fab_path=paths[\"fabdem\"])"
   ]
  },
  {
   "cell_type": "markdown",
   "id": "fa739192",
   "metadata": {
    "tags": []
   },
   "source": [
    "# Create DEMs over islands"
   ]
  },
  {
   "cell_type": "code",
   "execution_count": null,
   "id": "21d39a7e",
   "metadata": {
    "tags": []
   },
   "outputs": [],
   "source": [
    "create_dem_functions.loop_through_islands_creating_dems(island_groups=islands_dict,\n",
    "                                                        resolution=resolution, output_path=paths[\"output\"])"
   ]
  },
  {
   "cell_type": "code",
   "execution_count": null,
   "id": "b448169f-98b8-4996-a30b-1f71caf47b6d",
   "metadata": {},
   "outputs": [],
   "source": [
    "lidar_only_island_dict = {\"tongatapu\": islands_dict.pop(\"tongatapu\")}\n",
    "create_dem_functions.loop_through_islands_creating_dems_from_lidar_only(island_groups=lidar_only_island_dict,\n",
    "                                                                        resolution=resolution, output_path=paths[\"output\"],\n",
    "                                                                        interpolate=False)"
   ]
  }
 ],
 "metadata": {
  "kernelspec": {
   "display_name": "Python [conda env:raster]",
   "language": "python",
   "name": "conda-env-raster-py"
  },
  "language_info": {
   "codemirror_mode": {
    "name": "ipython",
    "version": 3
   },
   "file_extension": ".py",
   "mimetype": "text/x-python",
   "name": "python",
   "nbconvert_exporter": "python",
   "pygments_lexer": "ipython3",
   "version": "3.11.3"
  }
 },
 "nbformat": 4,
 "nbformat_minor": 5
}
