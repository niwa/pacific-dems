{
 "cells": [
  {
   "cell_type": "markdown",
   "id": "cbf43dcd",
   "metadata": {},
   "source": [
    "# Tonga 5m DEM creation\n",
    "Load in LiDAR where it exists and combine with FABDEM to produce 5m DEMs"
   ]
  },
  {
   "cell_type": "code",
   "execution_count": 3,
   "id": "0668458b",
   "metadata": {},
   "outputs": [
    {
     "name": "stdout",
     "output_type": "stream",
     "text": [
      "The autoreload extension is already loaded. To reload it, use:\n",
      "  %reload_ext autoreload\n"
     ]
    }
   ],
   "source": [
    "%load_ext autoreload\n",
    "%autoreload 2\n",
    "\n",
    "import warnings\n",
    "warnings.simplefilter(action='ignore', category=FutureWarning)\n",
    "\n",
    "import pathlib\n",
    "\n",
    "import os\n",
    "import sys\n",
    "module_path = os.path.abspath(os.path.join(\"..\", \"src\", \"pacific-dems\"))\n",
    "if module_path not in sys.path:\n",
    "    sys.path.append(module_path)\n",
    "\n",
    "import create_dem_functions\n",
    "import islands\n",
    "import create_data_paths"
   ]
  },
  {
   "cell_type": "markdown",
   "id": "d2628ea6",
   "metadata": {},
   "source": [
    "# Define country and resolution"
   ]
  },
  {
   "cell_type": "code",
   "execution_count": 4,
   "id": "395f96df",
   "metadata": {},
   "outputs": [],
   "source": [
    "resolution = 5 # in meters\n",
    "country_name = \"tonga\""
   ]
  },
  {
   "cell_type": "markdown",
   "id": "0bb5c332-6840-45b9-b6dc-f21324e4b500",
   "metadata": {},
   "source": [
    "# Create paths and get contry information"
   ]
  },
  {
   "cell_type": "code",
   "execution_count": 5,
   "id": "135798d2-15cd-4fb8-bacd-f6f3f6b94f6d",
   "metadata": {},
   "outputs": [],
   "source": [
    "paths = create_data_paths.get_paths(country_name=country_name, resolution=resolution)\n",
    "islands_dict = islands.get_island(country_name)"
   ]
  },
  {
   "cell_type": "markdown",
   "id": "91d58465-03e0-4f0d-a249-c6339bc27426",
   "metadata": {},
   "source": [
    "# Specify any LiDAR data"
   ]
  },
  {
   "cell_type": "code",
   "execution_count": 6,
   "id": "dd07349c-0a44-4833-83b3-d130b945ae51",
   "metadata": {},
   "outputs": [],
   "source": [
    "# Path of LiDAR DEMs\n",
    "eua_lidar = create_dem_functions.load_dem(paths[\"lidar\"] / \"Eua_1m_topobathy.tif\") \n",
    "tafahi_lidar = create_dem_functions.load_dem(paths[\"lidar\"] / \"Tafahi_1m_topobathy.tif\") \n",
    "vavau_lidar = create_dem_functions.load_dem(paths[\"lidar\"] / \"Vavau_1m_topobathy.tif\") \n",
    "\n",
    "tongatapu_lidar_land = create_dem_functions.load_dem(paths[\"lidar\"] / \"TongaLidar2011_1m_dem_UTM_compressed.tif\") \n",
    "tongatapu_lidar_bathy = create_dem_functions.load_dem(paths[\"lidar\"] / \"TongaLidar2011_5m_Bathymetry_UTM_compressed.tif\") \n",
    "lifuka_lidar_land = create_dem_functions.load_dem(paths[\"lidar\"] / \"LifukaLidar2011_1m_DEM_UTM_compressed.tif\") \n",
    "lifuka_lidar_bathy = create_dem_functions.load_dem(paths[\"lidar\"] / \"LifukaLidar2011_5m_Bathymetry_UTM_compressed.tif\") \n",
    "\n",
    "\n",
    "# Add to islands\n",
    "islands_dict[\"'eua\"][\"lidar\"] = eua_lidar\n",
    "islands_dict[\"niuatoputapu_tafahi_islands\"][\"lidar\"] = tafahi_lidar\n",
    "islands_dict[\"vava'u_group\"][\"lidar\"] = vavau_lidar\n",
    "islands_dict[\"tongatapu\"][\"lidar\"] = [tongatapu_lidar_land, tongatapu_lidar_bathy]\n",
    "islands_dict[\"ha'apai_group\"][\"lidar\"] = [lifuka_lidar_land, lifuka_lidar_bathy]"
   ]
  },
  {
   "cell_type": "markdown",
   "id": "c9f8d1e8",
   "metadata": {},
   "source": [
    "# Get island outlines and combine FABDEMs"
   ]
  },
  {
   "cell_type": "code",
   "execution_count": 7,
   "id": "209b2e5d",
   "metadata": {},
   "outputs": [
    {
     "name": "stdout",
     "output_type": "stream",
     "text": [
      "Setup for 'ata\n",
      "Setup for 'eua\n",
      "Setup for tongatapu\n",
      "Setup for hunga_tonga-hunga_ha'apai_islands\n",
      "Setup for ha'apai_group\n",
      "Setup for vava'u_group\n",
      "Setup for niuatoputapu_tafahi_islands\n",
      "Setup for niuafo'ou\n"
     ]
    }
   ],
   "source": [
    "islands_dict.pop(\"minerva\") # remove as no FABDEM\n",
    "for island_name, island_dict in islands_dict.items():\n",
    "    print(f\"Setup for {island_name}\")\n",
    "    island_dict[\"name\"] = island_name\n",
    "    island_dict[\"boundary\"] = create_dem_functions.create_boundary_epsg4326(island_dict=island_dict, output_path=paths[\"output\"])\n",
    "    island_dict[\"fab\"] = create_dem_functions.combine_fabs_in_boundary(island_dict=island_dict, fab_path=paths[\"fabdem\"])"
   ]
  },
  {
   "cell_type": "markdown",
   "id": "fa739192",
   "metadata": {
    "tags": []
   },
   "source": [
    "# Create DEMs over islands"
   ]
  },
  {
   "cell_type": "code",
   "execution_count": 8,
   "id": "1c015a2d-4977-48d1-9207-16601c027c9a",
   "metadata": {},
   "outputs": [],
   "source": [
    "lidar_only_island_dict = {\"tongatapu\": islands_dict.pop(\"tongatapu\")}"
   ]
  },
  {
   "cell_type": "code",
   "execution_count": null,
   "id": "21d39a7e",
   "metadata": {
    "tags": []
   },
   "outputs": [],
   "source": [
    "create_dem_functions.loop_through_islands_creating_dems(island_groups=islands_dict,\n",
    "                                                        resolution=resolution, output_path=paths[\"output\"])"
   ]
  },
  {
   "cell_type": "code",
   "execution_count": null,
   "id": "b448169f-98b8-4996-a30b-1f71caf47b6d",
   "metadata": {},
   "outputs": [
    {
     "name": "stdout",
     "output_type": "stream",
     "text": [
      "Resampling DEMs for tongatapu to 5m.\n",
      "\tCombining [<xarray.DataArray (y: 25000, x: 35000)>\n",
      "dask.array<getitem, shape=(25000, 35000), dtype=float32, chunksize=(958, 35000), chunktype=numpy.ndarray>\n",
      "Coordinates:\n",
      "  * x            (x) float32 6.7e+05 6.7e+05 6.7e+05 ... 7.05e+05 7.05e+05\n",
      "  * y            (y) float32 7.671e+06 7.671e+06 ... 7.646e+06 7.646e+06\n",
      "    spatial_ref  int32 0\n",
      "Attributes:\n",
      "    AREA_OR_POINT:             Area\n",
      "    STATISTICS_MAXIMUM:        64.789726257324\n",
      "    STATISTICS_MEAN:           14.179388640771\n",
      "    STATISTICS_MINIMUM:        -1.1284807920456\n",
      "    STATISTICS_STDDEV:         12.277000433039\n",
      "    STATISTICS_APPROXIMATE:    YES\n",
      "    STATISTICS_VALID_PERCENT:  30.82\n",
      "    scale_factor:              1.0\n",
      "    add_offset:                0.0\n",
      "    _FillValue:                nan, <xarray.DataArray (y: 5000, x: 7600)>\n",
      "dask.array<getitem, shape=(5000, 7600), dtype=float32, chunksize=(4415, 7600), chunktype=numpy.ndarray>\n",
      "Coordinates:\n",
      "  * x            (x) float32 6.72e+05 6.72e+05 6.72e+05 ... 7.1e+05 7.1e+05\n",
      "  * y            (y) float32 7.679e+06 7.679e+06 ... 7.654e+06 7.654e+06\n",
      "    spatial_ref  int32 0\n",
      "Attributes:\n",
      "    AREA_OR_POINT:             Area\n",
      "    STATISTICS_APPROXIMATE:    YES\n",
      "    STATISTICS_MAXIMUM:        1.4747363328934\n",
      "    STATISTICS_MEAN:           -11.119473535493\n",
      "    STATISTICS_MINIMUM:        -45.405948638916\n",
      "    STATISTICS_STDDEV:         11.073094666645\n",
      "    STATISTICS_VALID_PERCENT:  36.77\n",
      "    scale_factor:              1.0\n",
      "    add_offset:                0.0\n",
      "    _FillValue:                nan] DEMs.\n",
      "\tInterpolate DEMs.\n"
     ]
    }
   ],
   "source": [
    "create_dem_functions.loop_through_islands_creating_dems_from_lidar_only(island_groups=lidar_only_island_dict,\n",
    "                                                                        resolution=resolution, output_path=paths[\"output\"],\n",
    "                                                                        interpolate=True)"
   ]
  },
  {
   "cell_type": "code",
   "execution_count": null,
   "id": "7152d4a6-bee6-43f3-a295-2eda470d71eb",
   "metadata": {},
   "outputs": [],
   "source": []
  }
 ],
 "metadata": {
  "kernelspec": {
   "display_name": "Python [conda env:raster]",
   "language": "python",
   "name": "conda-env-raster-py"
  },
  "language_info": {
   "codemirror_mode": {
    "name": "ipython",
    "version": 3
   },
   "file_extension": ".py",
   "mimetype": "text/x-python",
   "name": "python",
   "nbconvert_exporter": "python",
   "pygments_lexer": "ipython3",
   "version": "3.11.3"
  }
 },
 "nbformat": 4,
 "nbformat_minor": 5
}
