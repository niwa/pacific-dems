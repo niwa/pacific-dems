{
 "cells": [
  {
   "cell_type": "markdown",
   "id": "cbf43dcd",
   "metadata": {},
   "source": [
    "# Cook Islands 5m DEM creation\n",
    "Load in LiDAR where it exists and combine with FABDEM to produce 5m DEMs"
   ]
  },
  {
   "cell_type": "code",
   "execution_count": null,
   "id": "0668458b",
   "metadata": {},
   "outputs": [],
   "source": [
    "%load_ext autoreload\n",
    "%autoreload 2\n",
    "\n",
    "import warnings\n",
    "warnings.simplefilter(action='ignore', category=FutureWarning)\n",
    "\n",
    "import pathlib\n",
    "import rioxarray\n",
    "\n",
    "import os\n",
    "import sys\n",
    "module_path = os.path.abspath(os.path.join(\"..\", \"src\", \"pacific-dems\"))\n",
    "if module_path not in sys.path:\n",
    "    sys.path.append(module_path)\n",
    "\n",
    "import create_dem_functions\n",
    "import islands\n",
    "import create_data_paths"
   ]
  },
  {
   "cell_type": "code",
   "execution_count": null,
   "id": "b6b0ed60-493b-4452-a516-a4a769403cd2",
   "metadata": {},
   "outputs": [],
   "source": [
    "import geopandas"
   ]
  },
  {
   "cell_type": "code",
   "execution_count": null,
   "id": "395f96df",
   "metadata": {},
   "outputs": [],
   "source": [
    "resolution = 5 # in meters\n",
    "country_name = \"cook_islands\""
   ]
  },
  {
   "cell_type": "markdown",
   "id": "0bb5c332-6840-45b9-b6dc-f21324e4b500",
   "metadata": {},
   "source": [
    "# Create paths and get contry information"
   ]
  },
  {
   "cell_type": "code",
   "execution_count": null,
   "id": "135798d2-15cd-4fb8-bacd-f6f3f6b94f6d",
   "metadata": {},
   "outputs": [],
   "source": [
    "paths = create_data_paths.get_paths(country_name=country_name, resolution=resolution)\n",
    "islands_dict = islands.get_island(country_name)"
   ]
  },
  {
   "cell_type": "markdown",
   "id": "91d58465-03e0-4f0d-a249-c6339bc27426",
   "metadata": {},
   "source": [
    "# Specify any LiDAR data"
   ]
  },
  {
   "cell_type": "code",
   "execution_count": null,
   "id": "dd07349c-0a44-4833-83b3-d130b945ae51",
   "metadata": {},
   "outputs": [],
   "source": [
    "# Path of LiDAR DEMs\n",
    "islands_dict[\"mangaia\"][\"lidar\"] = create_dem_functions.load_dem(paths[\"lidar\"] / \"Mangaia_1m_topobathy_02_MSL.tif\") \n",
    "islands_dict[\"rarotonga\"][\"lidar\"] = create_dem_functions.load_dem(paths[\"lidar\"] / \"Rarotonga_1m_topobathy_02_MSL.tif\") \n",
    "islands_dict[\"mauke\"][\"lidar\"] = create_dem_functions.load_dem(paths[\"lidar\"] / \"Mauke_1m_topobathy_01_Ellipsoid.tif\") \n",
    "islands_dict[\"mitiaro\"][\"lidar\"] = create_dem_functions.load_dem(paths[\"lidar\"] / \"Mitiaro_1m_topobathy_01_Ellipsoid.tif\") \n",
    "islands_dict[\"takutea\"][\"lidar\"] = create_dem_functions.load_dem(paths[\"lidar\"] / \"Takutea_1m_topobathy_01_Ellipsoid.tif\") \n",
    "islands_dict[\"aitutaki_manuae_islands\"][\"lidar\"] = create_dem_functions.load_dem(paths[\"lidar\"] / \"Manuae_1m_topobathy_01_Ellipsoid.tif\") \n",
    "islands_dict[\"palmerston\"][\"lidar\"] = create_dem_functions.load_dem(paths[\"lidar\"] / \"Palmerston_1m_topobathy_01_Ellipsoid.tif\") \n",
    "islands_dict[\"nassau\"][\"lidar\"] = create_dem_functions.load_dem(paths[\"lidar\"] / \"Nassau_1m_topobathy_01_Ellipsoid.tif\") \n",
    "islands_dict[\"rakahanga\"][\"lidar\"] = create_dem_functions.load_dem(paths[\"lidar\"] / \"Rakahanga_1m_topobathy_01_Ellipsoid.tif\") \n",
    "\n",
    "\n",
    "# Specify if LiDAR only\n",
    "islands_dict[\"mangaia\"][\"lidar_only\"] = True; islands_dict[\"mangaia\"][\"interpolate\"] = True\n",
    "islands_dict[\"rarotonga\"][\"lidar_only\"] = True; islands_dict[\"rarotonga\"][\"interpolate\"] = True\n",
    "islands_dict[\"mauke\"][\"lidar_only\"] = True; islands_dict[\"mauke\"][\"interpolate\"] = False\n",
    "islands_dict[\"mitiaro\"][\"lidar_only\"] = True; islands_dict[\"mitiaro\"][\"interpolate\"] = True\n",
    "islands_dict[\"takutea\"][\"lidar_only\"] = True; islands_dict[\"takutea\"][\"interpolate\"] = True\n",
    "islands_dict[\"aitutaki_manuae_islands\"][\"interpolate\"] = True\n",
    "islands_dict[\"palmerston\"][\"lidar_only\"] = True; islands_dict[\"palmerston\"][\"interpolate\"] = True\n",
    "islands_dict[\"nassau\"][\"lidar_only\"] = True; islands_dict[\"nassau\"][\"interpolate\"] = True\n",
    "islands_dict[\"rakahanga\"][\"lidar_only\"] = True; islands_dict[\"rakahanga\"][\"interpolate\"] = True"
   ]
  },
  {
   "cell_type": "markdown",
   "id": "c9f8d1e8",
   "metadata": {},
   "source": [
    "# Get island outlines, combine FABDEMs and create DEM# Get island outlines and combine FABDEMs"
   ]
  },
  {
   "cell_type": "code",
   "execution_count": null,
   "id": "209b2e5d",
   "metadata": {},
   "outputs": [],
   "source": [
    "for island_name, island_dict in islands_dict.items():\n",
    "    print(f\"Setup for {island_name}\")\n",
    "    island_dict[\"name\"] = island_name\n",
    "    island_dict[\"land\"] = create_dem_functions.get_islands_in_boundary(island_dict=island_dict, gadm_path=paths[\"land\"], output_path=paths[\"output\"] / island_name)\n",
    "    island_dict[\"fab\"] = create_dem_functions.combine_fabs_in_boundary(island_dict=island_dict, fab_path=paths[\"fabdem\"])\n",
    "create_dem_functions.creating_dems_all_islands(island_groups=islands_dict, resolution=resolution, output_path=paths[\"output\"])"
   ]
  }
 ],
 "metadata": {
  "kernelspec": {
   "display_name": "Python [conda env:raster]",
   "language": "python",
   "name": "conda-env-raster-py"
  },
  "language_info": {
   "codemirror_mode": {
    "name": "ipython",
    "version": 3
   },
   "file_extension": ".py",
   "mimetype": "text/x-python",
   "name": "python",
   "nbconvert_exporter": "python",
   "pygments_lexer": "ipython3",
   "version": "3.11.3"
  }
 },
 "nbformat": 4,
 "nbformat_minor": 5
}
