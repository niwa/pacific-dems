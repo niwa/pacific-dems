{
 "cells": [
  {
   "cell_type": "markdown",
   "id": "cbf43dcd",
   "metadata": {},
   "source": [
    "# Tuvalu 5m DEM creation\n",
    "Load in LiDAR for each island and coarsen to 5m DEMs"
   ]
  },
  {
   "cell_type": "code",
   "execution_count": 1,
   "id": "0f7a3035",
   "metadata": {},
   "outputs": [],
   "source": [
    "import warnings\n",
    "warnings.simplefilter(action='ignore', category=FutureWarning)\n",
    "\n",
    "import pathlib\n",
    "import rioxarray\n",
    "import create_dem_functions\n",
    "\n",
    "RESOLUTION = 5"
   ]
  },
  {
   "cell_type": "markdown",
   "id": "d2628ea6",
   "metadata": {},
   "source": [
    "# Load in DEM data: LiDAR\n",
    "<span style=\"color:red\">**_Replace with the path to your data on your computer!!!_**</span>"
   ]
  },
  {
   "cell_type": "code",
   "execution_count": 2,
   "id": "395f96df",
   "metadata": {},
   "outputs": [],
   "source": [
    "local_path = pathlib.Path(\"C:/Users/pearsonra/Documents/data/PARTneR/Tuvalu/local\")"
   ]
  },
  {
   "cell_type": "code",
   "execution_count": 3,
   "id": "ee22855c",
   "metadata": {},
   "outputs": [],
   "source": [
    "vaiupu = rioxarray.open_rasterio(local_path / \"LiDAR\" / \"1m_dem_vaiupu.nc\", masked=True)\n",
    "nukufetau = rioxarray.open_rasterio(local_path / \"LiDAR\" / \"1m_dem_nukufetau.nc\", masked=True)\n",
    "nanumanga = rioxarray.open_rasterio(local_path / \"LiDAR\" / \"1m_dem_nanumanga.nc\", masked=True)\n",
    "nanumea = rioxarray.open_rasterio(local_path / \"LiDAR\" / \"1m_dem_nanumea.nc\", masked=True)\n",
    "niulakita = rioxarray.open_rasterio(local_path / \"LiDAR\" / \"1m_dem_niulakita.nc\", masked=True)\n",
    "niutao = rioxarray.open_rasterio(local_path / \"LiDAR\" / \"1m_dem_niutao.nc\", masked=True)\n",
    "nui = rioxarray.open_rasterio(local_path / \"LiDAR\" / \"1m_dem_nui.nc\", masked=True)\n",
    "nukulaelae = rioxarray.open_rasterio(local_path / \"LiDAR\" / \"1m_dem_nukulaelae.nc\", masked=True)\n",
    "tv_funafuti = rioxarray.open_rasterio(local_path / \"LiDAR\" / \"1m_dem_tv_funafuti.nc\", masked=True)"
   ]
  },
  {
   "cell_type": "code",
   "execution_count": 4,
   "id": "7b5180bd",
   "metadata": {},
   "outputs": [],
   "source": [
    "islands = {'vaiupu': vaiupu, 'nukufetau': nukufetau, 'nanumanga': nanumanga, 'nanumea': nanumea, 'niulakita': niulakita,\n",
    "           'niutao': niutao, 'nui': nui, 'nukulaelae': nukulaelae, 'tv_funafuti': tv_funafuti}"
   ]
  },
  {
   "cell_type": "code",
   "execution_count": 5,
   "id": "38068524",
   "metadata": {},
   "outputs": [],
   "source": [
    "(local_path / \"DEMs_5m\").mkdir(exist_ok=True)"
   ]
  },
  {
   "cell_type": "markdown",
   "id": "3a0cb16f",
   "metadata": {},
   "source": [
    "# Coarsen and save out the DEMs"
   ]
  },
  {
   "cell_type": "code",
   "execution_count": 6,
   "id": "2673745d",
   "metadata": {},
   "outputs": [
    {
     "name": "stdout",
     "output_type": "stream",
     "text": [
      "Processing Island vaiupu\n",
      "Processing Island nukufetau\n",
      "Processing Island nanumanga\n",
      "Processing Island nanumea\n",
      "Processing Island niulakita\n",
      "Processing Island niutao\n",
      "Processing Island nui\n",
      "Processing Island nukulaelae\n",
      "Processing Island tv_funafuti\n"
     ]
    }
   ],
   "source": [
    "create_dem_functions.loop_through_islands_creating_dems_from_lidar_only(island_groups=islands,\n",
    "                                                                        resolution=RESOLUTION,\n",
    "                                                                        local_path=local_path)"
   ]
  },
  {
   "cell_type": "code",
   "execution_count": null,
   "id": "a140ad7f",
   "metadata": {},
   "outputs": [],
   "source": []
  }
 ],
 "metadata": {
  "kernelspec": {
   "display_name": "Python [conda env:raster]",
   "language": "python",
   "name": "conda-env-raster-py"
  },
  "language_info": {
   "codemirror_mode": {
    "name": "ipython",
    "version": 3
   },
   "file_extension": ".py",
   "mimetype": "text/x-python",
   "name": "python",
   "nbconvert_exporter": "python",
   "pygments_lexer": "ipython3",
   "version": "3.11.3"
  }
 },
 "nbformat": 4,
 "nbformat_minor": 5
}
