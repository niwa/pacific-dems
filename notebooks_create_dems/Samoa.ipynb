{
 "cells": [
  {
   "cell_type": "markdown",
   "id": "cbf43dcd",
   "metadata": {},
   "source": [
    "# Samoa 5m DEM creation\n",
    "Load in LiDAR where it exists and combine with FABDEM to produce 5m DEMs"
   ]
  },
  {
   "cell_type": "code",
   "execution_count": 1,
   "id": "0668458b",
   "metadata": {},
   "outputs": [],
   "source": [
    "%load_ext autoreload\n",
    "%autoreload 2\n",
    "\n",
    "import warnings\n",
    "warnings.simplefilter(action='ignore', category=FutureWarning)\n",
    "\n",
    "import pathlib\n",
    "\n",
    "import os\n",
    "import sys\n",
    "module_path = os.path.abspath(os.path.join(\"..\", \"src\", \"pacific-dems\"))\n",
    "if module_path not in sys.path:\n",
    "    sys.path.append(module_path)\n",
    "\n",
    "import create_dem_functions\n",
    "import islands\n",
    "import create_data_paths"
   ]
  },
  {
   "cell_type": "markdown",
   "id": "d2628ea6",
   "metadata": {},
   "source": [
    "# Define country and resolution"
   ]
  },
  {
   "cell_type": "code",
   "execution_count": 2,
   "id": "395f96df",
   "metadata": {},
   "outputs": [],
   "source": [
    "resolution = 5 # in meters\n",
    "country_name = \"samoa\""
   ]
  },
  {
   "cell_type": "markdown",
   "id": "0bb5c332-6840-45b9-b6dc-f21324e4b500",
   "metadata": {},
   "source": [
    "# Create paths and get contry information"
   ]
  },
  {
   "cell_type": "code",
   "execution_count": 3,
   "id": "135798d2-15cd-4fb8-bacd-f6f3f6b94f6d",
   "metadata": {},
   "outputs": [],
   "source": [
    "paths = create_data_paths.get_paths(country_name=country_name, resolution=resolution)\n",
    "islands_dict = islands.get_island(country_name)"
   ]
  },
  {
   "cell_type": "markdown",
   "id": "91d58465-03e0-4f0d-a249-c6339bc27426",
   "metadata": {},
   "source": [
    "# Specify any LiDAR data"
   ]
  },
  {
   "cell_type": "code",
   "execution_count": 4,
   "id": "dd07349c-0a44-4833-83b3-d130b945ae51",
   "metadata": {},
   "outputs": [],
   "source": [
    "# Path of LiDAR DEMs\n",
    "savaii_lidar_land = create_dem_functions.load_dem(paths[\"lidar\"] / \"Savaii_Topographic_1m_DEM.tif\")\n",
    "upolu_lidar_land = create_dem_functions.load_dem(paths[\"lidar\"] / \"Savaii_Bathymetric_5m_DEM.tif\") \n",
    "savaii_lidar_bathy = create_dem_functions.load_dem(paths[\"lidar\"] / \"Upolu_Topographic_1m_DEM.tif\")\n",
    "upolu_lidar_bathy = create_dem_functions.load_dem(paths[\"lidar\"] / \"Upolu_Bathymetric_5m_DEM.tif\") \n",
    "\n",
    "# Add to islands\n",
    "islands_dict[\"savai'i\"][\"lidar\"] = [savaii_lidar_land, savaii_lidar_bathy]\n",
    "islands_dict[\"savai'i\"][\"lidar_only\"] = True\n",
    "islands_dict[\"savai'i\"][\"interpolate\"] = True\n",
    "islands_dict[\"upolu\"][\"lidar\"] = [upolu_lidar_land, upolu_lidar_bathy]\n",
    "islands_dict[\"upolu\"][\"lidar_only\"] = True\n",
    "islands_dict[\"upolu\"][\"interpolate\"] = True"
   ]
  },
  {
   "cell_type": "markdown",
   "id": "c9f8d1e8",
   "metadata": {},
   "source": [
    "# Get island outlines and combine FABDEMs"
   ]
  },
  {
   "cell_type": "code",
   "execution_count": 5,
   "id": "209b2e5d",
   "metadata": {},
   "outputs": [
    {
     "name": "stdout",
     "output_type": "stream",
     "text": [
      "Setup for savai'i\n",
      "Setup for upolu\n",
      "/tWarning FABDEM tile S15W173_FABDEM_V1-2.tif doesn't exist in folder S20W180-S10W170_FABDEM_V1-2\n"
     ]
    }
   ],
   "source": [
    "for island_name, island_dict in islands_dict.items():\n",
    "    print(f\"Setup for {island_name}\")\n",
    "    island_dict[\"name\"] = island_name\n",
    "    island_dict[\"land\"] = create_dem_functions.get_islands_in_boundary(island_dict=island_dict, gadm_path=paths[\"land\"], output_path=paths[\"output\"] / island_name)\n",
    "    island_dict[\"fab\"] = create_dem_functions.combine_fabs_in_boundary(island_dict=island_dict, fab_path=paths[\"fabdem\"])"
   ]
  },
  {
   "cell_type": "markdown",
   "id": "fa739192",
   "metadata": {},
   "source": [
    "# Create DEMs over islands"
   ]
  },
  {
   "cell_type": "code",
   "execution_count": null,
   "id": "21d39a7e",
   "metadata": {},
   "outputs": [
    {
     "name": "stdout",
     "output_type": "stream",
     "text": [
      "Producing DEM(s) for savai'i at 5m.\n",
      "\tReample LiDAR DEM 1 of 2\n",
      "\tReample LiDAR DEM 2 of 2\n",
      "\tCombining 2 DEMs.\n",
      "\tDefine extents of LiDAR DEMs.\n",
      "\tInterpolate small gaps in the LiDAR DEMs.\n"
     ]
    }
   ],
   "source": [
    "create_dem_functions.creating_dems_all_islands(island_groups=islands_dict, resolution=resolution, output_path=paths[\"output\"])"
   ]
  },
  {
   "cell_type": "code",
   "execution_count": null,
   "id": "7c3c1b95",
   "metadata": {},
   "outputs": [],
   "source": []
  }
 ],
 "metadata": {
  "kernelspec": {
   "display_name": "Python [conda env:raster]",
   "language": "python",
   "name": "conda-env-raster-py"
  },
  "language_info": {
   "codemirror_mode": {
    "name": "ipython",
    "version": 3
   },
   "file_extension": ".py",
   "mimetype": "text/x-python",
   "name": "python",
   "nbconvert_exporter": "python",
   "pygments_lexer": "ipython3",
   "version": "3.11.3"
  }
 },
 "nbformat": 4,
 "nbformat_minor": 5
}
